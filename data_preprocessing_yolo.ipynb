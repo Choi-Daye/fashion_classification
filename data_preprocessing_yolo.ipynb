{
 "cells": [
  {
   "cell_type": "code",
   "execution_count": null,
   "metadata": {
    "colab": {
     "base_uri": "https://localhost:8080/"
    },
    "executionInfo": {
     "elapsed": 11551,
     "status": "ok",
     "timestamp": 1729875505787,
     "user": {
      "displayName": "정정",
      "userId": "17376636643091801952"
     },
     "user_tz": -540
    },
    "id": "QisqPvhYnOxW",
    "outputId": "2b16d1c7-fc4a-40af-f0be-b032a6637d9f"
   },
   "outputs": [
    {
     "name": "stdout",
     "output_type": "stream",
     "text": [
      "Drive already mounted at /content/drive; to attempt to forcibly remount, call drive.mount(\"/content/drive\", force_remount=True).\n"
     ]
    }
   ],
   "source": [
    "from google.colab import drive\n",
    "drive.mount('/content/drive')"
   ]
  },
  {
   "cell_type": "code",
   "execution_count": null,
   "metadata": {
    "colab": {
     "base_uri": "https://localhost:8080/"
    },
    "executionInfo": {
     "elapsed": 7425,
     "status": "ok",
     "timestamp": 1729876921125,
     "user": {
      "displayName": "정정",
      "userId": "17376636643091801952"
     },
     "user_tz": -540
    },
    "id": "HlCjgAqMtVhg",
    "outputId": "c7666d48-892f-41a8-905a-a5335385522a"
   },
   "outputs": [
    {
     "name": "stdout",
     "output_type": "stream",
     "text": [
      "Collecting torchmetrics\n",
      "  Downloading torchmetrics-1.5.1-py3-none-any.whl.metadata (20 kB)\n",
      "Requirement already satisfied: numpy<2.0,>1.20.0 in /usr/local/lib/python3.10/dist-packages (from torchmetrics) (1.26.4)\n",
      "Requirement already satisfied: packaging>17.1 in /usr/local/lib/python3.10/dist-packages (from torchmetrics) (24.1)\n",
      "Requirement already satisfied: torch>=1.10.0 in /usr/local/lib/python3.10/dist-packages (from torchmetrics) (2.5.0+cu121)\n",
      "Collecting lightning-utilities>=0.8.0 (from torchmetrics)\n",
      "  Downloading lightning_utilities-0.11.8-py3-none-any.whl.metadata (5.2 kB)\n",
      "Requirement already satisfied: setuptools in /usr/local/lib/python3.10/dist-packages (from lightning-utilities>=0.8.0->torchmetrics) (75.1.0)\n",
      "Requirement already satisfied: typing-extensions in /usr/local/lib/python3.10/dist-packages (from lightning-utilities>=0.8.0->torchmetrics) (4.12.2)\n",
      "Requirement already satisfied: filelock in /usr/local/lib/python3.10/dist-packages (from torch>=1.10.0->torchmetrics) (3.16.1)\n",
      "Requirement already satisfied: networkx in /usr/local/lib/python3.10/dist-packages (from torch>=1.10.0->torchmetrics) (3.4.2)\n",
      "Requirement already satisfied: jinja2 in /usr/local/lib/python3.10/dist-packages (from torch>=1.10.0->torchmetrics) (3.1.4)\n",
      "Requirement already satisfied: fsspec in /usr/local/lib/python3.10/dist-packages (from torch>=1.10.0->torchmetrics) (2024.6.1)\n",
      "Requirement already satisfied: sympy==1.13.1 in /usr/local/lib/python3.10/dist-packages (from torch>=1.10.0->torchmetrics) (1.13.1)\n",
      "Requirement already satisfied: mpmath<1.4,>=1.1.0 in /usr/local/lib/python3.10/dist-packages (from sympy==1.13.1->torch>=1.10.0->torchmetrics) (1.3.0)\n",
      "Requirement already satisfied: MarkupSafe>=2.0 in /usr/local/lib/python3.10/dist-packages (from jinja2->torch>=1.10.0->torchmetrics) (3.0.2)\n",
      "Downloading torchmetrics-1.5.1-py3-none-any.whl (890 kB)\n",
      "\u001b[2K   \u001b[90m━━━━━━━━━━━━━━━━━━━━━━━━━━━━━━━━━━━━━━━━\u001b[0m \u001b[32m890.6/890.6 kB\u001b[0m \u001b[31m38.7 MB/s\u001b[0m eta \u001b[36m0:00:00\u001b[0m\n",
      "\u001b[?25hDownloading lightning_utilities-0.11.8-py3-none-any.whl (26 kB)\n",
      "Installing collected packages: lightning-utilities, torchmetrics\n",
      "Successfully installed lightning-utilities-0.11.8 torchmetrics-1.5.1\n",
      "Collecting ultralytics\n",
      "  Downloading ultralytics-8.3.23-py3-none-any.whl.metadata (35 kB)\n",
      "Requirement already satisfied: numpy>=1.23.0 in /usr/local/lib/python3.10/dist-packages (from ultralytics) (1.26.4)\n",
      "Requirement already satisfied: matplotlib>=3.3.0 in /usr/local/lib/python3.10/dist-packages (from ultralytics) (3.7.1)\n",
      "Requirement already satisfied: opencv-python>=4.6.0 in /usr/local/lib/python3.10/dist-packages (from ultralytics) (4.10.0.84)\n",
      "Requirement already satisfied: pillow>=7.1.2 in /usr/local/lib/python3.10/dist-packages (from ultralytics) (10.4.0)\n",
      "Requirement already satisfied: pyyaml>=5.3.1 in /usr/local/lib/python3.10/dist-packages (from ultralytics) (6.0.2)\n",
      "Requirement already satisfied: requests>=2.23.0 in /usr/local/lib/python3.10/dist-packages (from ultralytics) (2.32.3)\n",
      "Requirement already satisfied: scipy>=1.4.1 in /usr/local/lib/python3.10/dist-packages (from ultralytics) (1.13.1)\n",
      "Requirement already satisfied: torch>=1.8.0 in /usr/local/lib/python3.10/dist-packages (from ultralytics) (2.5.0+cu121)\n",
      "Requirement already satisfied: torchvision>=0.9.0 in /usr/local/lib/python3.10/dist-packages (from ultralytics) (0.20.0+cu121)\n",
      "Requirement already satisfied: tqdm>=4.64.0 in /usr/local/lib/python3.10/dist-packages (from ultralytics) (4.66.5)\n",
      "Requirement already satisfied: psutil in /usr/local/lib/python3.10/dist-packages (from ultralytics) (5.9.5)\n",
      "Requirement already satisfied: py-cpuinfo in /usr/local/lib/python3.10/dist-packages (from ultralytics) (9.0.0)\n",
      "Requirement already satisfied: pandas>=1.1.4 in /usr/local/lib/python3.10/dist-packages (from ultralytics) (2.2.2)\n",
      "Requirement already satisfied: seaborn>=0.11.0 in /usr/local/lib/python3.10/dist-packages (from ultralytics) (0.13.2)\n",
      "Collecting ultralytics-thop>=2.0.0 (from ultralytics)\n",
      "  Downloading ultralytics_thop-2.0.9-py3-none-any.whl.metadata (9.3 kB)\n",
      "Requirement already satisfied: contourpy>=1.0.1 in /usr/local/lib/python3.10/dist-packages (from matplotlib>=3.3.0->ultralytics) (1.3.0)\n",
      "Requirement already satisfied: cycler>=0.10 in /usr/local/lib/python3.10/dist-packages (from matplotlib>=3.3.0->ultralytics) (0.12.1)\n",
      "Requirement already satisfied: fonttools>=4.22.0 in /usr/local/lib/python3.10/dist-packages (from matplotlib>=3.3.0->ultralytics) (4.54.1)\n",
      "Requirement already satisfied: kiwisolver>=1.0.1 in /usr/local/lib/python3.10/dist-packages (from matplotlib>=3.3.0->ultralytics) (1.4.7)\n",
      "Requirement already satisfied: packaging>=20.0 in /usr/local/lib/python3.10/dist-packages (from matplotlib>=3.3.0->ultralytics) (24.1)\n",
      "Requirement already satisfied: pyparsing>=2.3.1 in /usr/local/lib/python3.10/dist-packages (from matplotlib>=3.3.0->ultralytics) (3.2.0)\n",
      "Requirement already satisfied: python-dateutil>=2.7 in /usr/local/lib/python3.10/dist-packages (from matplotlib>=3.3.0->ultralytics) (2.8.2)\n",
      "Requirement already satisfied: pytz>=2020.1 in /usr/local/lib/python3.10/dist-packages (from pandas>=1.1.4->ultralytics) (2024.2)\n",
      "Requirement already satisfied: tzdata>=2022.7 in /usr/local/lib/python3.10/dist-packages (from pandas>=1.1.4->ultralytics) (2024.2)\n",
      "Requirement already satisfied: charset-normalizer<4,>=2 in /usr/local/lib/python3.10/dist-packages (from requests>=2.23.0->ultralytics) (3.4.0)\n",
      "Requirement already satisfied: idna<4,>=2.5 in /usr/local/lib/python3.10/dist-packages (from requests>=2.23.0->ultralytics) (3.10)\n",
      "Requirement already satisfied: urllib3<3,>=1.21.1 in /usr/local/lib/python3.10/dist-packages (from requests>=2.23.0->ultralytics) (2.2.3)\n",
      "Requirement already satisfied: certifi>=2017.4.17 in /usr/local/lib/python3.10/dist-packages (from requests>=2.23.0->ultralytics) (2024.8.30)\n",
      "Requirement already satisfied: filelock in /usr/local/lib/python3.10/dist-packages (from torch>=1.8.0->ultralytics) (3.16.1)\n",
      "Requirement already satisfied: typing-extensions>=4.8.0 in /usr/local/lib/python3.10/dist-packages (from torch>=1.8.0->ultralytics) (4.12.2)\n",
      "Requirement already satisfied: networkx in /usr/local/lib/python3.10/dist-packages (from torch>=1.8.0->ultralytics) (3.4.2)\n",
      "Requirement already satisfied: jinja2 in /usr/local/lib/python3.10/dist-packages (from torch>=1.8.0->ultralytics) (3.1.4)\n",
      "Requirement already satisfied: fsspec in /usr/local/lib/python3.10/dist-packages (from torch>=1.8.0->ultralytics) (2024.6.1)\n",
      "Requirement already satisfied: sympy==1.13.1 in /usr/local/lib/python3.10/dist-packages (from torch>=1.8.0->ultralytics) (1.13.1)\n",
      "Requirement already satisfied: mpmath<1.4,>=1.1.0 in /usr/local/lib/python3.10/dist-packages (from sympy==1.13.1->torch>=1.8.0->ultralytics) (1.3.0)\n",
      "Requirement already satisfied: six>=1.5 in /usr/local/lib/python3.10/dist-packages (from python-dateutil>=2.7->matplotlib>=3.3.0->ultralytics) (1.16.0)\n",
      "Requirement already satisfied: MarkupSafe>=2.0 in /usr/local/lib/python3.10/dist-packages (from jinja2->torch>=1.8.0->ultralytics) (3.0.2)\n",
      "Downloading ultralytics-8.3.23-py3-none-any.whl (877 kB)\n",
      "\u001b[2K   \u001b[90m━━━━━━━━━━━━━━━━━━━━━━━━━━━━━━━━━━━━━━━━\u001b[0m \u001b[32m877.6/877.6 kB\u001b[0m \u001b[31m53.5 MB/s\u001b[0m eta \u001b[36m0:00:00\u001b[0m\n",
      "\u001b[?25hDownloading ultralytics_thop-2.0.9-py3-none-any.whl (26 kB)\n",
      "Installing collected packages: ultralytics-thop, ultralytics\n",
      "Successfully installed ultralytics-8.3.23 ultralytics-thop-2.0.9\n"
     ]
    }
   ],
   "source": [
    "!pip install torchmetrics\n",
    "!pip install ultralytics"
   ]
  },
  {
   "cell_type": "code",
   "execution_count": null,
   "metadata": {
    "colab": {
     "base_uri": "https://localhost:8080/"
    },
    "executionInfo": {
     "elapsed": 11699,
     "status": "ok",
     "timestamp": 1729876932822,
     "user": {
      "displayName": "정정",
      "userId": "17376636643091801952"
     },
     "user_tz": -540
    },
    "id": "pgY8DSZzto5O",
    "outputId": "6568240b-d01a-4a1e-df71-be44032c4b79"
   },
   "outputs": [
    {
     "name": "stdout",
     "output_type": "stream",
     "text": [
      "Creating new Ultralytics Settings v0.0.6 file ✅ \n",
      "View Ultralytics Settings with 'yolo settings' or at '/root/.config/Ultralytics/settings.json'\n",
      "Update Settings with 'yolo settings key=value', i.e. 'yolo settings runs_dir=path/to/dir'. For help see https://docs.ultralytics.com/quickstart/#ultralytics-settings.\n"
     ]
    }
   ],
   "source": [
    "import os\n",
    "import numpy as np\n",
    "import cv2\n",
    "import torch\n",
    "import torch.nn as nn\n",
    "import torch.optim as optim\n",
    "import torchvision.transforms as transforms\n",
    "from torch.utils.data import DataLoader, TensorDataset, Dataset\n",
    "from torchvision import models\n",
    "from PIL import Image\n",
    "from tqdm import tqdm\n",
    "import torchmetrics\n",
    "from ultralytics import YOLO"
   ]
  },
  {
   "cell_type": "code",
   "execution_count": null,
   "metadata": {},
   "outputs": [],
   "source": [
    "classification = {\n",
    "  0: ('M', 'hippie'),\n",
    "  1: ('M', 'mods'),\n",
    "  2: ('M', 'ivy'),\n",
    "  3: ('M', 'hiphop'),\n",
    "  4: ('M', 'metrosexual'),\n",
    "  5: ('M', 'bold'),\n",
    "  6: ('M', 'sportivecasual'),\n",
    "  7: ('M', 'normcore'),\n",
    "  8: ('W', 'sportivecasual'),\n",
    "  9: ('W', 'feminine'),\n",
    "  10: ('W', 'minimal'),\n",
    "  11: ('W', 'powersuit'),\n",
    "  12: ('W', 'bodyconscious'),\n",
    "  13: ('W', 'classic'),\n",
    "  14: ('W', 'kitsch'),\n",
    "  15: ('W', 'normcore'),\n",
    "  16: ('W', 'cityglam'),\n",
    "  17: ('W', 'oriental'),\n",
    "  18: ('W', 'ecology'),\n",
    "  19: ('W', 'space'),\n",
    "  20: ('W', 'athleisure'),\n",
    "  21: ('W', 'hippie'),\n",
    "  22: ('W', 'genderless'),\n",
    "  23: ('W', 'punk'),\n",
    "  24: ('W', 'grunge'),\n",
    "  25: ('W', 'disco'),\n",
    "  26: ('W', 'military'),\n",
    "  27: ('W', 'hiphop'),\n",
    "  28: ('W', 'popart'),\n",
    "  29: ('W', 'lounge'),\n",
    "  30: ('W', 'lingerie')\n",
    "}"
   ]
  },
  {
   "cell_type": "code",
   "execution_count": null,
   "metadata": {
    "id": "JyNJ6kBwtsWx"
   },
   "outputs": [],
   "source": [
    "class CustomImageDataset(Dataset):\n",
    "    def __init__(self, folder, classification, transform=None):\n",
    "        self.folder = folder\n",
    "        self.transform = transform\n",
    "        self.classification = classification\n",
    "        self.image_files = [f for f in os.listdir(folder) if f.endswith(('.jpg', '.png'))]\n",
    "\n",
    "    def __len__(self):\n",
    "        return len(self.image_files)\n",
    "\n",
    "    def __getitem__(self, idx):\n",
    "        img_path = os.path.join(self.folder, self.image_files[idx])\n",
    "        try:\n",
    "            img = Image.open(img_path).convert('RGB')\n",
    "        except Exception as e:\n",
    "            print(f\"Error loading image {img_path}: {e}\")\n",
    "            return None, None\n",
    "\n",
    "        # 라벨 추출 (e.g., gender and style)\n",
    "        filename = self.image_files[idx]\n",
    "        style = filename.split('_')[-2]\n",
    "        gender = filename.split('_')[-1].split('.')[0]\n",
    "\n",
    "        # classification의 class와 일치하는지 확인\n",
    "        index = next((i for i, (g, s) in self.classification.items() if g == gender and s == style), None)\n",
    "\n",
    "        # 일치 X -> 0으로 인덱스 주기\n",
    "        if index is None:\n",
    "            print(f\"Label for {filename} not found in classification.\")\n",
    "            index = 0\n",
    "\n",
    "        # transform 적용\n",
    "        if self.transform:\n",
    "            img = self.transform(img)\n",
    "\n",
    "        return img, index"
   ]
  },
  {
   "cell_type": "code",
   "execution_count": null,
   "metadata": {
    "id": "NMSk0QETHicC"
   },
   "outputs": [],
   "source": [
    "# 객체 탐지\n",
    "def detect_objects_and_get_largest_bbox(images, labels):\n",
    "    train_data = []\n",
    "    person_class_id = 0  # \"person\" class in YOLO is usually class ID 0\n",
    "\n",
    "    for img, label in tqdm(zip(images, labels), total=len(images), desc=\"Processing Images\"):\n",
    "        img = np.array(img)\n",
    "\n",
    "        # 이미지의 차원 확인\n",
    "        print(f\"Image shape: {img.shape}\")  # 디버깅용\n",
    "\n",
    "        # (C, H, W) 형식을 (H, W, C)로 변환\n",
    "        if img.ndim == 3 and img.shape[0] == 3:\n",
    "            img = np.transpose(img, (1, 2, 0))  # (C, H, W) -> (H, W, C)\n",
    "\n",
    "        # 3채널 이미지인지 확인\n",
    "        if img.ndim != 3 or img.shape[2] != 3:\n",
    "            print(f\"Skipping image due to unexpected shape: {img.shape}\")\n",
    "            continue\n",
    "\n",
    "        img_bgr = cv2.cvtColor(img, cv2.COLOR_RGB2BGR)\n",
    "        results = model_yolo.predict(img_bgr)\n",
    "        \n",
    "        # 사람인 클래스만 추출\n",
    "        bboxes = []\n",
    "        for result in results:\n",
    "            boxes = result.boxes\n",
    "            for box in boxes:\n",
    "                class_id = int(box.cls.item())\n",
    "                if class_id == person_class_id:\n",
    "                    bbox = box.xyxy[0].cpu().numpy()\n",
    "                    bboxes.append(bbox)\n",
    "\n",
    "        if bboxes:\n",
    "            # 바운딩 박스가 가장 큰 것만 추출 (사람이 많이 추출될 경우를 대비)\n",
    "            largest_bbox = max(bboxes, key=lambda bbox: (bbox[2] - bbox[0]) * (bbox[3] - bbox[1]))\n",
    "            img_pil = Image.fromarray(cv2.cvtColor(img, cv2.COLOR_BGR2RGB))\n",
    "            train_data.append((img_pil, largest_bbox, label))\n",
    "        else:\n",
    "            print(\"No bounding boxes detected.\")\n",
    "\n",
    "    return train_data"
   ]
  },
  {
   "cell_type": "code",
   "execution_count": null,
   "metadata": {
    "id": "He-V328DHiYO"
   },
   "outputs": [],
   "source": [
    "def preprocess_data(train_data):\n",
    "    train_images = []\n",
    "    train_classes = []\n",
    "\n",
    "    for data in tqdm(train_data, desc=\"Preprocessing Data\"):\n",
    "        image = data[0]\n",
    "        class_id = data[2] if data[2] is not None else 0\n",
    "        image_tensor = transform(image)\n",
    "\n",
    "        train_images.append(image_tensor)\n",
    "        train_classes.append(class_id)\n",
    "\n",
    "    train_images_tensor = torch.stack(train_images).to(device)\n",
    "    train_classes_tensor = torch.tensor(train_classes).to(device)\n",
    "\n",
    "    return train_images_tensor, train_classes_tensor"
   ]
  },
  {
   "cell_type": "code",
   "execution_count": null,
   "metadata": {
    "colab": {
     "base_uri": "https://localhost:8080/"
    },
    "executionInfo": {
     "elapsed": 1602,
     "status": "ok",
     "timestamp": 1729876934420,
     "user": {
      "displayName": "정정",
      "userId": "17376636643091801952"
     },
     "user_tz": -540
    },
    "id": "MP3rMfOII7ps",
    "outputId": "825e61f0-889a-4fd4-dfc1-856552351fc9"
   },
   "outputs": [
    {
     "name": "stdout",
     "output_type": "stream",
     "text": [
      "Downloading https://github.com/ultralytics/assets/releases/download/v8.3.0/yolov10n.pt to 'yolov10n.pt'...\n"
     ]
    },
    {
     "name": "stderr",
     "output_type": "stream",
     "text": [
      "100%|██████████| 5.59M/5.59M [00:00<00:00, 330MB/s]\n"
     ]
    }
   ],
   "source": [
    "# 모델 로드\n",
    "model_yolo = YOLO('yolov10n.pt')"
   ]
  },
  {
   "cell_type": "code",
   "execution_count": null,
   "metadata": {
    "id": "B_NU05b4I8MX"
   },
   "outputs": [],
   "source": [
    "# Transform 정의\n",
    "transform = transforms.Compose([\n",
    "    transforms.Resize((224, 224)),\n",
    "    transforms.ToTensor()\n",
    "])"
   ]
  },
  {
   "cell_type": "code",
   "execution_count": null,
   "metadata": {
    "id": "wfPWKoTOI9cL"
   },
   "outputs": [],
   "source": [
    "# GPU 사용\n",
    "device = torch.device(\"cuda\" if torch.cuda.is_available() else \"cpu\")"
   ]
  },
  {
   "cell_type": "code",
   "execution_count": null,
   "metadata": {
    "id": "FhQqrODOZa5f"
   },
   "outputs": [],
   "source": [
    "train_image_folder = \"/content/drive/MyDrive/dataset/2024 데이터 크리에이터 캠프 대학부 데이터셋/training_image\""
   ]
  },
  {
   "cell_type": "code",
   "execution_count": null,
   "metadata": {
    "id": "8LgOEzokZa2e"
   },
   "outputs": [],
   "source": [
    "train_dataset = CustomImageDataset(train_image_folder, classification=classification, transform=transform)\n",
    "\n",
    "train_loader = DataLoader(train_dataset, batch_size=128, shuffle=False)"
   ]
  },
  {
   "cell_type": "code",
   "execution_count": null,
   "metadata": {
    "id": "88uDyzgCuir9"
   },
   "outputs": [],
   "source": [
    "# 전처리 \n",
    "detect_objects_and_get_largest_bbox(images, labels)"
   ]
  },
  {
   "cell_type": "code",
   "execution_count": null,
   "metadata": {},
   "outputs": [],
   "source": [
    "train_data = []\n",
    "for images, labels in train_loader:\n",
    "    batch_data = detect_objects_and_get_largest_bbox(images, labels)\n",
    "    train_data.extend(batch_data)"
   ]
  },
  {
   "cell_type": "code",
   "execution_count": null,
   "metadata": {
    "id": "IEjPoQnkifXy"
   },
   "outputs": [],
   "source": [
    "train_images_tensor, train_classes_tensor = preprocess_data(train_data)"
   ]
  },
  {
   "cell_type": "code",
   "execution_count": null,
   "metadata": {
    "id": "6yEu1ZoYuyZe"
   },
   "outputs": [],
   "source": [
    "# Load images\n",
    "train_image_folder = \"/content/drive/MyDrive/dataset/2024 데이터 크리에이터 캠프 대학부 데이터셋/training_image\"\n",
    "image_path = []\n",
    "\n",
    "for path in os.listdir(train_image_folder):\n",
    "    if path.endswith('.jpg'):\n",
    "      image_path.append(os.path.join(train_image_folder, path))"
   ]
  },
  {
   "cell_type": "code",
   "execution_count": null,
   "metadata": {
    "colab": {
     "base_uri": "https://localhost:8080/"
    },
    "executionInfo": {
     "elapsed": 4,
     "status": "ok",
     "timestamp": 1729871631705,
     "user": {
      "displayName": "정정",
      "userId": "17376636643091801952"
     },
     "user_tz": -540
    },
    "id": "2OwLpojsvBzV",
    "outputId": "9c1fef95-b2eb-4d77-934d-da2c5352fa2e"
   },
   "outputs": [
    {
     "data": {
      "text/plain": [
       "4070"
      ]
     },
     "execution_count": 11,
     "metadata": {},
     "output_type": "execute_result"
    }
   ],
   "source": [
    "len(image_path)"
   ]
  },
  {
   "cell_type": "markdown",
   "metadata": {},
   "source": [
    "- 이미지를 모두 처리 완료"
   ]
  },
  {
   "cell_type": "code",
   "execution_count": null,
   "metadata": {
    "colab": {
     "base_uri": "https://localhost:8080/"
    },
    "id": "yIOSK0TCuLZa",
    "outputId": "93b212e7-0358-47af-82b4-2fa71523bc0f"
   },
   "outputs": [
    {
     "name": "stderr",
     "output_type": "stream",
     "text": [
      "\rLoading images:   0%|          | 0/4070 [00:00<?, ?it/s]"
     ]
    },
    {
     "name": "stdout",
     "output_type": "stream",
     "text": [
      "Attempting to load /content/drive/MyDrive/dataset/2024 데이터 크리에이터 캠프 대학부 데이터셋/training_image/W_13465_80_powersuit_W.jpg\n"
     ]
    }
   ],
   "source": [
    "train_images, labels = load_images_from_folder(image_path)"
   ]
  },
  {
   "cell_type": "code",
   "execution_count": null,
   "metadata": {
    "id": "seczcm-0I3nr"
   },
   "outputs": [],
   "source": [
    "# Detect objects and prepare data for training\n",
    "train_data = detect_objects_and_get_largest_bbox(train_images, labels)"
   ]
  },
  {
   "cell_type": "code",
   "execution_count": null,
   "metadata": {
    "id": "RgFCJamYJIA7"
   },
   "outputs": [],
   "source": [
    "# Prepare tensors from the detected data\n",
    "train_images_tensor, train_classes_tensor = preprocess_data(train_data)"
   ]
  },
  {
   "cell_type": "code",
   "execution_count": null,
   "metadata": {
    "id": "Zwv-3HGZJJR2"
   },
   "outputs": [],
   "source": [
    "# Create TensorDataset\n",
    "train_dataset = TensorDataset(train_images_tensor, train_classes_tensor)"
   ]
  }
 ],
 "metadata": {
  "accelerator": "GPU",
  "colab": {
   "authorship_tag": "ABX9TyMtOSTeEvtR1WjbNJs4TBqm",
   "gpuType": "A100",
   "machine_shape": "hm",
   "mount_file_id": "1fcgTT-diAwJZpkNFYHjR1xTtiz9bsHc7",
   "provenance": []
  },
  "kernelspec": {
   "display_name": "Python 3",
   "name": "python3"
  },
  "language_info": {
   "name": "python"
  }
 },
 "nbformat": 4,
 "nbformat_minor": 0
}
